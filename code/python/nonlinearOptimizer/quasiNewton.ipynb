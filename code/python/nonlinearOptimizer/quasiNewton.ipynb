{
 "cells": [
  {
   "cell_type": "code",
   "execution_count": 11,
   "id": "2260fbdc",
   "metadata": {},
   "outputs": [],
   "source": [
    "from optimparallel import minimize_parallel\n",
    "from pca import *\n",
    "from readply import *\n",
    "import numpy as np\n",
    "import pandas as pd\n",
    "import time"
   ]
  },
  {
   "cell_type": "code",
   "execution_count": 12,
   "id": "e98ebdfb",
   "metadata": {},
   "outputs": [],
   "source": [
    "leftLineIdxs, rightLineIdxs = [1042, 1053, 1073, 1074, 1083, 1098, 1118, 1119, 1139, 1140, 1143, 1589, 1632, 1845, 1853, 1965, 1989, 2010, 2011, 2707, 2709, 2782, 2783, 2853, 2897, 2902, 2904, 2915, 2916, 3045, 3076, 3128, 3202, 3203, 3252, 3253, 3267, 3328, 3341], [20, 22, 37, 38, 40, 46, 59, 67, 69, 81, 109, 110, 115, 119, 337, 338, 343, 613, 834, 835, 864, 1005, 1030, 2039, 2121, 2122, 2198, 2226, 2246, 2247, 2249, 2487, 2488, 2489, 2517, 2579, 2580, 2646]\n",
    "eigenVectors = read_matrix_from_hdf5('eigenVectors.h5')\n",
    "mean = read_matrix_from_hdf5('mean.h5')"
   ]
  },
  {
   "cell_type": "code",
   "execution_count": 13,
   "id": "b2562c08",
   "metadata": {},
   "outputs": [],
   "source": [
    "df_lines = pd.read_csv('lines.txt', sep=' ', header=None)\n",
    "line = df_lines.values[0]\n",
    "eigenValuesAugmentation_fit = [37.47394805, -49.07828283,  -0.6562043,  -24.62020633, -27.13628352, 6.57057748, -11.42703975, -18.79096601, -10.54424185, 3.44637848, -12.89579981, -7.87242574, -13.9092693, 2.27681137, -7.3060829, -7.73122333, -4.43121648, 5.80548907, 10.15422231, 14.24570948, -17.25150115, 0.97727416, -3.08962112, 5.8461985, 6.87403008, -3.17929581, 1.36895233, -0.74191196, -0.60536829, 5.94243889]\n",
    "\n"
   ]
  },
  {
   "cell_type": "code",
   "execution_count": 14,
   "id": "073ba0a6",
   "metadata": {},
   "outputs": [],
   "source": [
    "\n",
    "def fun(x):\n",
    "    eigenValuesAugmentation_fit[1] = x[0]\n",
    "    eigenValuesAugmentation_fit[2] = x[1]\n",
    "    eigenValuesAugmentation_fit[3] = x[2]\n",
    "    eigenValuesAugmentation_fit[4] = x[3]\n",
    "    eigenValuesAugmentation_fit[5] = x[4]\n",
    "    eigenValuesAugmentation_fit[6] = x[5]\n",
    "    model = calcSpecificModel(eigenValuesAugmentation_fit, mean, eigenVectors)\n",
    "    idxs = expandIndices(rightLineIdxs)\n",
    "    sum = 0\n",
    "    for i in range(0,len(idxs),3):\n",
    "                sum += np.sqrt((model[idxs[i]] - line[i])**2 + (model[idxs[i+1]] - line[i+1])**2 + (model[idxs[i+2]] - line[i+2])**2)\n",
    "\n",
    "    return sum\n",
    "\n",
    "x0 = [-49.07828283,  -0.6562043,  -24.62020633, -27.13628352, 6.57057748, -11.42703975]"
   ]
  },
  {
   "cell_type": "code",
   "execution_count": 15,
   "id": "87a9968b",
   "metadata": {},
   "outputs": [
    {
     "ename": "BrokenProcessPool",
     "evalue": "A process in the process pool was terminated abruptly while the future was running or pending.",
     "output_type": "error",
     "traceback": [
      "\u001b[1;31m---------------------------------------------------------------------------\u001b[0m",
      "\u001b[1;31mBrokenProcessPool\u001b[0m                         Traceback (most recent call last)",
      "Cell \u001b[1;32mIn[15], line 8\u001b[0m\n\u001b[0;32m      5\u001b[0m     \u001b[39mprint\u001b[39m(res)\n\u001b[0;32m      7\u001b[0m \u001b[39mif\u001b[39;00m \u001b[39m__name__\u001b[39m \u001b[39m==\u001b[39m \u001b[39m'\u001b[39m\u001b[39m__main__\u001b[39m\u001b[39m'\u001b[39m:\n\u001b[1;32m----> 8\u001b[0m     main()\n",
      "Cell \u001b[1;32mIn[15], line 4\u001b[0m, in \u001b[0;36mmain\u001b[1;34m()\u001b[0m\n\u001b[0;32m      3\u001b[0m \u001b[39mdef\u001b[39;00m \u001b[39mmain\u001b[39m():\n\u001b[1;32m----> 4\u001b[0m     res \u001b[39m=\u001b[39m minimize_parallel(fun, x0, options\u001b[39m=\u001b[39;49m{\u001b[39m'\u001b[39;49m\u001b[39mmaxiter\u001b[39;49m\u001b[39m'\u001b[39;49m: \u001b[39m2\u001b[39;49m})\n\u001b[0;32m      5\u001b[0m     \u001b[39mprint\u001b[39m(res)\n",
      "File \u001b[1;32mc:\\ProgramData\\anaconda3\\lib\\site-packages\\optimparallel.py:347\u001b[0m, in \u001b[0;36mminimize_parallel\u001b[1;34m(fun, x0, args, jac, bounds, tol, options, callback, parallel)\u001b[0m\n\u001b[0;32m    336\u001b[0m \u001b[39mwith\u001b[39;00m concurrent\u001b[39m.\u001b[39mfutures\u001b[39m.\u001b[39mProcessPoolExecutor(max_workers\u001b[39m=\u001b[39m\n\u001b[0;32m    337\u001b[0m                      parallel_used\u001b[39m.\u001b[39mget(\u001b[39m'\u001b[39m\u001b[39mmax_workers\u001b[39m\u001b[39m'\u001b[39m)) \u001b[39mas\u001b[39;00m executor:\n\u001b[0;32m    338\u001b[0m     fun_jac \u001b[39m=\u001b[39m EvalParallel(fun\u001b[39m=\u001b[39mfun,\n\u001b[0;32m    339\u001b[0m                            jac\u001b[39m=\u001b[39mjac,\n\u001b[0;32m    340\u001b[0m                            args\u001b[39m=\u001b[39margs,\n\u001b[1;32m   (...)\u001b[0m\n\u001b[0;32m    345\u001b[0m                            verbose\u001b[39m=\u001b[39mparallel_used\u001b[39m.\u001b[39mget(\u001b[39m'\u001b[39m\u001b[39mverbose\u001b[39m\u001b[39m'\u001b[39m),\n\u001b[0;32m    346\u001b[0m                            n\u001b[39m=\u001b[39mn)\n\u001b[1;32m--> 347\u001b[0m     out \u001b[39m=\u001b[39m minimize(fun\u001b[39m=\u001b[39;49mfun_jac\u001b[39m.\u001b[39;49mfun,\n\u001b[0;32m    348\u001b[0m                    x0\u001b[39m=\u001b[39;49mx0,\n\u001b[0;32m    349\u001b[0m                    jac\u001b[39m=\u001b[39;49mfun_jac\u001b[39m.\u001b[39;49mjac,\n\u001b[0;32m    350\u001b[0m                    method\u001b[39m=\u001b[39;49m\u001b[39m'\u001b[39;49m\u001b[39mL-BFGS-B\u001b[39;49m\u001b[39m'\u001b[39;49m,\n\u001b[0;32m    351\u001b[0m                    bounds\u001b[39m=\u001b[39;49mbounds,\n\u001b[0;32m    352\u001b[0m                    callback\u001b[39m=\u001b[39;49mcallback,\n\u001b[0;32m    353\u001b[0m                    options\u001b[39m=\u001b[39;49moptions_used)\n\u001b[0;32m    355\u001b[0m \u001b[39mif\u001b[39;00m parallel_used\u001b[39m.\u001b[39mget(\u001b[39m'\u001b[39m\u001b[39mloginfo\u001b[39m\u001b[39m'\u001b[39m):\n\u001b[0;32m    356\u001b[0m     out\u001b[39m.\u001b[39mloginfo \u001b[39m=\u001b[39m {k: (\u001b[39mlambda\u001b[39;00m x: np\u001b[39m.\u001b[39marray(x) \u001b[39mif\u001b[39;00m \u001b[39misinstance\u001b[39m(x[\u001b[39m0\u001b[39m], \u001b[39mlist\u001b[39m)\n\u001b[0;32m    357\u001b[0m                        \u001b[39melse\u001b[39;00m np\u001b[39m.\u001b[39marray(x)[np\u001b[39m.\u001b[39mnewaxis]\u001b[39m.\u001b[39mT)(v) \u001b[39mfor\u001b[39;00m k, v \u001b[39min\u001b[39;00m fun_jac\u001b[39m.\u001b[39minfo\u001b[39m.\u001b[39mitems()}\n",
      "File \u001b[1;32mc:\\ProgramData\\anaconda3\\lib\\site-packages\\scipy\\optimize\\_minimize.py:696\u001b[0m, in \u001b[0;36mminimize\u001b[1;34m(fun, x0, args, method, jac, hess, hessp, bounds, constraints, tol, callback, options)\u001b[0m\n\u001b[0;32m    693\u001b[0m     res \u001b[39m=\u001b[39m _minimize_newtoncg(fun, x0, args, jac, hess, hessp, callback,\n\u001b[0;32m    694\u001b[0m                              \u001b[39m*\u001b[39m\u001b[39m*\u001b[39moptions)\n\u001b[0;32m    695\u001b[0m \u001b[39melif\u001b[39;00m meth \u001b[39m==\u001b[39m \u001b[39m'\u001b[39m\u001b[39ml-bfgs-b\u001b[39m\u001b[39m'\u001b[39m:\n\u001b[1;32m--> 696\u001b[0m     res \u001b[39m=\u001b[39m _minimize_lbfgsb(fun, x0, args, jac, bounds,\n\u001b[0;32m    697\u001b[0m                            callback\u001b[39m=\u001b[39mcallback, \u001b[39m*\u001b[39m\u001b[39m*\u001b[39moptions)\n\u001b[0;32m    698\u001b[0m \u001b[39melif\u001b[39;00m meth \u001b[39m==\u001b[39m \u001b[39m'\u001b[39m\u001b[39mtnc\u001b[39m\u001b[39m'\u001b[39m:\n\u001b[0;32m    699\u001b[0m     res \u001b[39m=\u001b[39m _minimize_tnc(fun, x0, args, jac, bounds, callback\u001b[39m=\u001b[39mcallback,\n\u001b[0;32m    700\u001b[0m                         \u001b[39m*\u001b[39m\u001b[39m*\u001b[39moptions)\n",
      "File \u001b[1;32mc:\\ProgramData\\anaconda3\\lib\\site-packages\\scipy\\optimize\\_lbfgsb_py.py:305\u001b[0m, in \u001b[0;36m_minimize_lbfgsb\u001b[1;34m(fun, x0, args, jac, bounds, disp, maxcor, ftol, gtol, eps, maxfun, maxiter, iprint, callback, maxls, finite_diff_rel_step, **unknown_options)\u001b[0m\n\u001b[0;32m    302\u001b[0m     \u001b[39melse\u001b[39;00m:\n\u001b[0;32m    303\u001b[0m         iprint \u001b[39m=\u001b[39m disp\n\u001b[1;32m--> 305\u001b[0m sf \u001b[39m=\u001b[39m _prepare_scalar_function(fun, x0, jac\u001b[39m=\u001b[39;49mjac, args\u001b[39m=\u001b[39;49margs, epsilon\u001b[39m=\u001b[39;49meps,\n\u001b[0;32m    306\u001b[0m                               bounds\u001b[39m=\u001b[39;49mnew_bounds,\n\u001b[0;32m    307\u001b[0m                               finite_diff_rel_step\u001b[39m=\u001b[39;49mfinite_diff_rel_step)\n\u001b[0;32m    309\u001b[0m func_and_grad \u001b[39m=\u001b[39m sf\u001b[39m.\u001b[39mfun_and_grad\n\u001b[0;32m    311\u001b[0m fortran_int \u001b[39m=\u001b[39m _lbfgsb\u001b[39m.\u001b[39mtypes\u001b[39m.\u001b[39mintvar\u001b[39m.\u001b[39mdtype\n",
      "File \u001b[1;32mc:\\ProgramData\\anaconda3\\lib\\site-packages\\scipy\\optimize\\_optimize.py:332\u001b[0m, in \u001b[0;36m_prepare_scalar_function\u001b[1;34m(fun, x0, jac, args, bounds, epsilon, finite_diff_rel_step, hess)\u001b[0m\n\u001b[0;32m    328\u001b[0m     bounds \u001b[39m=\u001b[39m (\u001b[39m-\u001b[39mnp\u001b[39m.\u001b[39minf, np\u001b[39m.\u001b[39minf)\n\u001b[0;32m    330\u001b[0m \u001b[39m# ScalarFunction caches. Reuse of fun(x) during grad\u001b[39;00m\n\u001b[0;32m    331\u001b[0m \u001b[39m# calculation reduces overall function evaluations.\u001b[39;00m\n\u001b[1;32m--> 332\u001b[0m sf \u001b[39m=\u001b[39m ScalarFunction(fun, x0, args, grad, hess,\n\u001b[0;32m    333\u001b[0m                     finite_diff_rel_step, bounds, epsilon\u001b[39m=\u001b[39;49mepsilon)\n\u001b[0;32m    335\u001b[0m \u001b[39mreturn\u001b[39;00m sf\n",
      "File \u001b[1;32mc:\\ProgramData\\anaconda3\\lib\\site-packages\\scipy\\optimize\\_differentiable_functions.py:158\u001b[0m, in \u001b[0;36mScalarFunction.__init__\u001b[1;34m(self, fun, x0, args, grad, hess, finite_diff_rel_step, finite_diff_bounds, epsilon)\u001b[0m\n\u001b[0;32m    155\u001b[0m     \u001b[39mself\u001b[39m\u001b[39m.\u001b[39mf \u001b[39m=\u001b[39m fun_wrapped(\u001b[39mself\u001b[39m\u001b[39m.\u001b[39mx)\n\u001b[0;32m    157\u001b[0m \u001b[39mself\u001b[39m\u001b[39m.\u001b[39m_update_fun_impl \u001b[39m=\u001b[39m update_fun\n\u001b[1;32m--> 158\u001b[0m \u001b[39mself\u001b[39;49m\u001b[39m.\u001b[39;49m_update_fun()\n\u001b[0;32m    160\u001b[0m \u001b[39m# Gradient evaluation\u001b[39;00m\n\u001b[0;32m    161\u001b[0m \u001b[39mif\u001b[39;00m callable(grad):\n",
      "File \u001b[1;32mc:\\ProgramData\\anaconda3\\lib\\site-packages\\scipy\\optimize\\_differentiable_functions.py:251\u001b[0m, in \u001b[0;36mScalarFunction._update_fun\u001b[1;34m(self)\u001b[0m\n\u001b[0;32m    249\u001b[0m \u001b[39mdef\u001b[39;00m \u001b[39m_update_fun\u001b[39m(\u001b[39mself\u001b[39m):\n\u001b[0;32m    250\u001b[0m     \u001b[39mif\u001b[39;00m \u001b[39mnot\u001b[39;00m \u001b[39mself\u001b[39m\u001b[39m.\u001b[39mf_updated:\n\u001b[1;32m--> 251\u001b[0m         \u001b[39mself\u001b[39;49m\u001b[39m.\u001b[39;49m_update_fun_impl()\n\u001b[0;32m    252\u001b[0m         \u001b[39mself\u001b[39m\u001b[39m.\u001b[39mf_updated \u001b[39m=\u001b[39m \u001b[39mTrue\u001b[39;00m\n",
      "File \u001b[1;32mc:\\ProgramData\\anaconda3\\lib\\site-packages\\scipy\\optimize\\_differentiable_functions.py:155\u001b[0m, in \u001b[0;36mScalarFunction.__init__.<locals>.update_fun\u001b[1;34m()\u001b[0m\n\u001b[0;32m    154\u001b[0m \u001b[39mdef\u001b[39;00m \u001b[39mupdate_fun\u001b[39m():\n\u001b[1;32m--> 155\u001b[0m     \u001b[39mself\u001b[39m\u001b[39m.\u001b[39mf \u001b[39m=\u001b[39m fun_wrapped(\u001b[39mself\u001b[39;49m\u001b[39m.\u001b[39;49mx)\n",
      "File \u001b[1;32mc:\\ProgramData\\anaconda3\\lib\\site-packages\\scipy\\optimize\\_differentiable_functions.py:137\u001b[0m, in \u001b[0;36mScalarFunction.__init__.<locals>.fun_wrapped\u001b[1;34m(x)\u001b[0m\n\u001b[0;32m    133\u001b[0m \u001b[39mself\u001b[39m\u001b[39m.\u001b[39mnfev \u001b[39m+\u001b[39m\u001b[39m=\u001b[39m \u001b[39m1\u001b[39m\n\u001b[0;32m    134\u001b[0m \u001b[39m# Send a copy because the user may overwrite it.\u001b[39;00m\n\u001b[0;32m    135\u001b[0m \u001b[39m# Overwriting results in undefined behaviour because\u001b[39;00m\n\u001b[0;32m    136\u001b[0m \u001b[39m# fun(self.x) will change self.x, with the two no longer linked.\u001b[39;00m\n\u001b[1;32m--> 137\u001b[0m fx \u001b[39m=\u001b[39m fun(np\u001b[39m.\u001b[39;49mcopy(x), \u001b[39m*\u001b[39;49margs)\n\u001b[0;32m    138\u001b[0m \u001b[39m# Make sure the function returns a true scalar\u001b[39;00m\n\u001b[0;32m    139\u001b[0m \u001b[39mif\u001b[39;00m \u001b[39mnot\u001b[39;00m np\u001b[39m.\u001b[39misscalar(fx):\n",
      "File \u001b[1;32mc:\\ProgramData\\anaconda3\\lib\\site-packages\\optimparallel.py:158\u001b[0m, in \u001b[0;36mEvalParallel.fun\u001b[1;34m(self, x)\u001b[0m\n\u001b[0;32m    157\u001b[0m \u001b[39mdef\u001b[39;00m \u001b[39mfun\u001b[39m(\u001b[39mself\u001b[39m, x):\n\u001b[1;32m--> 158\u001b[0m     \u001b[39mself\u001b[39;49m\u001b[39m.\u001b[39;49meval_parallel(x\u001b[39m=\u001b[39;49mx)\n\u001b[0;32m    159\u001b[0m     \u001b[39mif\u001b[39;00m \u001b[39mself\u001b[39m\u001b[39m.\u001b[39mverbose:\n\u001b[0;32m    160\u001b[0m         \u001b[39mprint\u001b[39m(\u001b[39m'\u001b[39m\u001b[39mfun(\u001b[39m\u001b[39m'\u001b[39m \u001b[39m+\u001b[39m \u001b[39mstr\u001b[39m(x) \u001b[39m+\u001b[39m \u001b[39m'\u001b[39m\u001b[39m) = \u001b[39m\u001b[39m'\u001b[39m \u001b[39m+\u001b[39m \u001b[39mstr\u001b[39m(\u001b[39mself\u001b[39m\u001b[39m.\u001b[39mfun_val))\n",
      "File \u001b[1;32mc:\\ProgramData\\anaconda3\\lib\\site-packages\\optimparallel.py:122\u001b[0m, in \u001b[0;36mEvalParallel.eval_parallel\u001b[1;34m(self, x)\u001b[0m\n\u001b[0;32m    116\u001b[0m     ftmp \u001b[39m=\u001b[39m \u001b[39mself\u001b[39m\u001b[39m.\u001b[39m_eval_approx\n\u001b[0;32m    118\u001b[0m ret \u001b[39m=\u001b[39m \u001b[39mself\u001b[39m\u001b[39m.\u001b[39mexecutor\u001b[39m.\u001b[39mmap(ftmp, eps_at,\n\u001b[0;32m    119\u001b[0m                     itertools\u001b[39m.\u001b[39mrepeat(\u001b[39mself\u001b[39m\u001b[39m.\u001b[39mfun_in),\n\u001b[0;32m    120\u001b[0m                     itertools\u001b[39m.\u001b[39mrepeat(x),\n\u001b[0;32m    121\u001b[0m                     itertools\u001b[39m.\u001b[39mrepeat(\u001b[39mself\u001b[39m\u001b[39m.\u001b[39meps))\n\u001b[1;32m--> 122\u001b[0m ret \u001b[39m=\u001b[39m np\u001b[39m.\u001b[39marray(\u001b[39mlist\u001b[39;49m(ret))\n\u001b[0;32m    123\u001b[0m \u001b[39mself\u001b[39m\u001b[39m.\u001b[39mfun_val \u001b[39m=\u001b[39m ret[\u001b[39m0\u001b[39m]\n\u001b[0;32m    124\u001b[0m \u001b[39mif\u001b[39;00m \u001b[39mself\u001b[39m\u001b[39m.\u001b[39mforward:\n",
      "File \u001b[1;32mc:\\ProgramData\\anaconda3\\lib\\concurrent\\futures\\process.py:570\u001b[0m, in \u001b[0;36m_chain_from_iterable_of_lists\u001b[1;34m(iterable)\u001b[0m\n\u001b[0;32m    564\u001b[0m \u001b[39mdef\u001b[39;00m \u001b[39m_chain_from_iterable_of_lists\u001b[39m(iterable):\n\u001b[0;32m    565\u001b[0m     \u001b[39m\"\"\"\u001b[39;00m\n\u001b[0;32m    566\u001b[0m \u001b[39m    Specialized implementation of itertools.chain.from_iterable.\u001b[39;00m\n\u001b[0;32m    567\u001b[0m \u001b[39m    Each item in *iterable* should be a list.  This function is\u001b[39;00m\n\u001b[0;32m    568\u001b[0m \u001b[39m    careful not to keep references to yielded objects.\u001b[39;00m\n\u001b[0;32m    569\u001b[0m \u001b[39m    \"\"\"\u001b[39;00m\n\u001b[1;32m--> 570\u001b[0m     \u001b[39mfor\u001b[39;00m element \u001b[39min\u001b[39;00m iterable:\n\u001b[0;32m    571\u001b[0m         element\u001b[39m.\u001b[39mreverse()\n\u001b[0;32m    572\u001b[0m         \u001b[39mwhile\u001b[39;00m element:\n",
      "File \u001b[1;32mc:\\ProgramData\\anaconda3\\lib\\concurrent\\futures\\_base.py:621\u001b[0m, in \u001b[0;36mExecutor.map.<locals>.result_iterator\u001b[1;34m()\u001b[0m\n\u001b[0;32m    618\u001b[0m \u001b[39mwhile\u001b[39;00m fs:\n\u001b[0;32m    619\u001b[0m     \u001b[39m# Careful not to keep a reference to the popped future\u001b[39;00m\n\u001b[0;32m    620\u001b[0m     \u001b[39mif\u001b[39;00m timeout \u001b[39mis\u001b[39;00m \u001b[39mNone\u001b[39;00m:\n\u001b[1;32m--> 621\u001b[0m         \u001b[39myield\u001b[39;00m _result_or_cancel(fs\u001b[39m.\u001b[39;49mpop())\n\u001b[0;32m    622\u001b[0m     \u001b[39melse\u001b[39;00m:\n\u001b[0;32m    623\u001b[0m         \u001b[39myield\u001b[39;00m _result_or_cancel(fs\u001b[39m.\u001b[39mpop(), end_time \u001b[39m-\u001b[39m time\u001b[39m.\u001b[39mmonotonic())\n",
      "File \u001b[1;32mc:\\ProgramData\\anaconda3\\lib\\concurrent\\futures\\_base.py:319\u001b[0m, in \u001b[0;36m_result_or_cancel\u001b[1;34m(***failed resolving arguments***)\u001b[0m\n\u001b[0;32m    317\u001b[0m \u001b[39mtry\u001b[39;00m:\n\u001b[0;32m    318\u001b[0m     \u001b[39mtry\u001b[39;00m:\n\u001b[1;32m--> 319\u001b[0m         \u001b[39mreturn\u001b[39;00m fut\u001b[39m.\u001b[39;49mresult(timeout)\n\u001b[0;32m    320\u001b[0m     \u001b[39mfinally\u001b[39;00m:\n\u001b[0;32m    321\u001b[0m         fut\u001b[39m.\u001b[39mcancel()\n",
      "File \u001b[1;32mc:\\ProgramData\\anaconda3\\lib\\concurrent\\futures\\_base.py:458\u001b[0m, in \u001b[0;36mFuture.result\u001b[1;34m(self, timeout)\u001b[0m\n\u001b[0;32m    456\u001b[0m     \u001b[39mraise\u001b[39;00m CancelledError()\n\u001b[0;32m    457\u001b[0m \u001b[39melif\u001b[39;00m \u001b[39mself\u001b[39m\u001b[39m.\u001b[39m_state \u001b[39m==\u001b[39m FINISHED:\n\u001b[1;32m--> 458\u001b[0m     \u001b[39mreturn\u001b[39;00m \u001b[39mself\u001b[39;49m\u001b[39m.\u001b[39;49m__get_result()\n\u001b[0;32m    459\u001b[0m \u001b[39melse\u001b[39;00m:\n\u001b[0;32m    460\u001b[0m     \u001b[39mraise\u001b[39;00m \u001b[39mTimeoutError\u001b[39;00m()\n",
      "File \u001b[1;32mc:\\ProgramData\\anaconda3\\lib\\concurrent\\futures\\_base.py:403\u001b[0m, in \u001b[0;36mFuture.__get_result\u001b[1;34m(self)\u001b[0m\n\u001b[0;32m    401\u001b[0m \u001b[39mif\u001b[39;00m \u001b[39mself\u001b[39m\u001b[39m.\u001b[39m_exception:\n\u001b[0;32m    402\u001b[0m     \u001b[39mtry\u001b[39;00m:\n\u001b[1;32m--> 403\u001b[0m         \u001b[39mraise\u001b[39;00m \u001b[39mself\u001b[39m\u001b[39m.\u001b[39m_exception\n\u001b[0;32m    404\u001b[0m     \u001b[39mfinally\u001b[39;00m:\n\u001b[0;32m    405\u001b[0m         \u001b[39m# Break a reference cycle with the exception in self._exception\u001b[39;00m\n\u001b[0;32m    406\u001b[0m         \u001b[39mself\u001b[39m \u001b[39m=\u001b[39m \u001b[39mNone\u001b[39;00m\n",
      "\u001b[1;31mBrokenProcessPool\u001b[0m: A process in the process pool was terminated abruptly while the future was running or pending."
     ]
    }
   ],
   "source": [
    "solvers = ['Nelder-Mead', 'Powell', 'CG', 'BFGS', 'L-BFGS-B', 'TNC', 'COBYLA', 'SLSQP', 'trust-constr']\n",
    "results = []\n",
    "def main():\n",
    "    res = minimize_parallel(fun, x0, options={'maxiter': 2})\n",
    "    print(res)\n",
    "\n",
    "if __name__ == '__main__':\n",
    "    main()"
   ]
  }
 ],
 "metadata": {
  "kernelspec": {
   "display_name": "Python 3 (ipykernel)",
   "language": "python",
   "name": "python3"
  },
  "language_info": {
   "codemirror_mode": {
    "name": "ipython",
    "version": 3
   },
   "file_extension": ".py",
   "mimetype": "text/x-python",
   "name": "python",
   "nbconvert_exporter": "python",
   "pygments_lexer": "ipython3",
   "version": "3.10.9"
  }
 },
 "nbformat": 4,
 "nbformat_minor": 5
}

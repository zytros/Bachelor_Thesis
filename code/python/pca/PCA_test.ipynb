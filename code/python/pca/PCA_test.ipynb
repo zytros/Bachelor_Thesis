{
 "cells": [
  {
   "cell_type": "code",
   "execution_count": 30,
   "id": "fe3a0c94",
   "metadata": {},
   "outputs": [],
   "source": [
    "import numpy as np\n",
    "from sklearn.decomposition import PCA\n",
    "import pandas as pd\n",
    "\n",
    "filenames = ['fitModel_Demo_Augmentation.obj']"
   ]
  },
  {
   "cell_type": "code",
   "execution_count": 31,
   "id": "5e1b0b94",
   "metadata": {},
   "outputs": [],
   "source": [
    "def getVertCoords(filename):\n",
    "    file = open(filename, 'r')\n",
    "    lines = file.readlines()\n",
    "    file.close()\n",
    "    \n",
    "    coords = []\n",
    "    for i in range(len(lines)):\n",
    "        if not lines[i].startswith('v '):\n",
    "            continue\n",
    "\n",
    "        line = lines[i].split(\" \")\n",
    "        coords.append(float(line[1]))\n",
    "        coords.append(float(line[2]))\n",
    "        coords.append(float(line[3].replace('\\n', '')))\n",
    "    return coords"
   ]
  },
  {
   "cell_type": "code",
   "execution_count": 35,
   "id": "b58a19be",
   "metadata": {
    "scrolled": true
   },
   "outputs": [
    {
     "name": "stdout",
     "output_type": "stream",
     "text": [
      "1\n"
     ]
    }
   ],
   "source": [
    "def getAllData():\n",
    "    ret = []\n",
    "    for filename in filenames:\n",
    "        ret.append(getVertCoords(filename))\n",
    "    return np.array(ret)\n",
    "print(len(getAllData()))"
   ]
  },
  {
   "cell_type": "code",
   "execution_count": null,
   "id": "86f65e21",
   "metadata": {},
   "outputs": [],
   "source": []
  }
 ],
 "metadata": {
  "kernelspec": {
   "display_name": "Python 3 (ipykernel)",
   "language": "python",
   "name": "python3"
  },
  "language_info": {
   "codemirror_mode": {
    "name": "ipython",
    "version": 3
   },
   "file_extension": ".py",
   "mimetype": "text/x-python",
   "name": "python",
   "nbconvert_exporter": "python",
   "pygments_lexer": "ipython3",
   "version": "3.11.0"
  }
 },
 "nbformat": 4,
 "nbformat_minor": 5
}
